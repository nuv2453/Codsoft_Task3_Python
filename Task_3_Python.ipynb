{
 "cells": [
  {
   "cell_type": "code",
   "execution_count": 2,
   "id": "ec62f2ce",
   "metadata": {},
   "outputs": [
    {
     "name": "stdout",
     "output_type": "stream",
     "text": [
      "Password Generator\n",
      "Enter the desired length of the password: 45\n",
      "Generated password: voNFLwq\\RnI3h6jRXiX@FE>w|T;eP)[kF7?p8>kA-TNYL\n",
      "Do you want to generate another password? (yes/no): yes\n",
      "Enter the desired length of the password: 56\n",
      "Generated password: l)6m:d4ay*O+&).|Ee%LuWp?K&-\"WA0zRH7s}4f^Pi(B;;W}mp1c,*Vs\n",
      "Do you want to generate another password? (yes/no): no\n"
     ]
    }
   ],
   "source": [
    "import random\n",
    "import string\n",
    "\n",
    "def generate_password(length):\n",
    "    # Define the characters to use in the password\n",
    "    characters = string.ascii_letters + string.digits + string.punctuation\n",
    "    # Generate a random password\n",
    "    password = ''.join(random.choice(characters) for _ in range(length))\n",
    "    return password\n",
    "\n",
    "def main():\n",
    "    print(\"Password Generator\")\n",
    "    while True:\n",
    "        try:\n",
    "            length = int(input(\"Enter the desired length of the password: \"))\n",
    "            if length <= 0:\n",
    "                print(\"Please enter a positive integer.\")\n",
    "                continue\n",
    "            password = generate_password(length)\n",
    "            print(f\"Generated password: {password}\")\n",
    "            \n",
    "            another_password = input(\"Do you want to generate another password? (yes/no): \")\n",
    "            if another_password.lower() != 'yes':\n",
    "                break\n",
    "        except ValueError:\n",
    "            print(\"Invalid input! Please enter a valid number.\")\n",
    "\n",
    "if __name__ == \"__main__\":\n",
    "    main()\n"
   ]
  },
  {
   "cell_type": "code",
   "execution_count": null,
   "id": "04162e00",
   "metadata": {},
   "outputs": [],
   "source": []
  }
 ],
 "metadata": {
  "kernelspec": {
   "display_name": "Python 3 (ipykernel)",
   "language": "python",
   "name": "python3"
  },
  "language_info": {
   "codemirror_mode": {
    "name": "ipython",
    "version": 3
   },
   "file_extension": ".py",
   "mimetype": "text/x-python",
   "name": "python",
   "nbconvert_exporter": "python",
   "pygments_lexer": "ipython3",
   "version": "3.11.5"
  }
 },
 "nbformat": 4,
 "nbformat_minor": 5
}
